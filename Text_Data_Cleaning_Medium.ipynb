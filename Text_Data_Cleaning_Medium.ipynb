{
  "nbformat": 4,
  "nbformat_minor": 0,
  "metadata": {
    "colab": {
      "name": "Text Data Cleaning Medium.ipynb",
      "provenance": [],
      "authorship_tag": "ABX9TyMMbzNU3rpb/w4yaPMxat4K",
      "include_colab_link": true
    },
    "kernelspec": {
      "name": "python3",
      "display_name": "Python 3"
    },
    "language_info": {
      "name": "python"
    }
  },
  "cells": [
    {
      "cell_type": "markdown",
      "metadata": {
        "id": "view-in-github",
        "colab_type": "text"
      },
      "source": [
        "<a href=\"https://colab.research.google.com/github/dk-wei/NLP-progress/blob/master/Text_Data_Cleaning_Medium.ipynb\" target=\"_parent\"><img src=\"https://colab.research.google.com/assets/colab-badge.svg\" alt=\"Open In Colab\"/></a>"
      ]
    },
    {
      "cell_type": "code",
      "metadata": {
        "colab": {
          "base_uri": "https://localhost:8080/"
        },
        "id": "JBxc9kRvUhUk",
        "outputId": "567ed978-bc92-4861-cd2c-df2167014652"
      },
      "source": [
        "import re\n",
        "import sklearn\n",
        "import numpy as np\n",
        "import sklearn\n",
        "import sklearn.ensemble\n",
        "import sklearn.metrics\n",
        "from __future__ import print_function\n",
        "from tqdm.notebook import tqdm\n",
        "\n",
        "import spacy\n",
        "import string\n",
        "import nltk\n",
        "from nltk.corpus import stopwords\n",
        "nltk.download('stopwords')"
      ],
      "execution_count": 61,
      "outputs": [
        {
          "output_type": "stream",
          "text": [
            "[nltk_data] Downloading package stopwords to /root/nltk_data...\n",
            "[nltk_data]   Package stopwords is already up-to-date!\n"
          ],
          "name": "stdout"
        },
        {
          "output_type": "execute_result",
          "data": {
            "text/plain": [
              "True"
            ]
          },
          "metadata": {
            "tags": []
          },
          "execution_count": 61
        }
      ]
    },
    {
      "cell_type": "code",
      "metadata": {
        "id": "P-Ir3PTzUm3U"
      },
      "source": [
        "from sklearn.datasets import fetch_20newsgroups\n",
        "newsgroups_train = fetch_20newsgroups(subset='train')\n",
        "newsgroups_test = fetch_20newsgroups(subset='test')"
      ],
      "execution_count": 62,
      "outputs": []
    },
    {
      "cell_type": "code",
      "metadata": {
        "colab": {
          "base_uri": "https://localhost:8080/",
          "height": 105
        },
        "id": "0VHzoZA1Um1G",
        "outputId": "1e463b76-26dd-44dc-b613-dd39081fa418"
      },
      "source": [
        "newsgroups_train.data[20]"
      ],
      "execution_count": 63,
      "outputs": [
        {
          "output_type": "execute_result",
          "data": {
            "application/vnd.google.colaboratory.intrinsic+json": {
              "type": "string"
            },
            "text/plain": [
              "'From: keith@cco.caltech.edu (Keith Allan Schneider)\\nSubject: Re: <<Pompous ass\\nOrganization: California Institute of Technology, Pasadena\\nLines: 16\\nNNTP-Posting-Host: punisher.caltech.edu\\n\\nlivesey@solntze.wpd.sgi.com (Jon Livesey) writes:\\n\\n[...]\\n>>The \"`little\\' things\" above were in reference to Germany, clearly.  People\\n>>said that there were similar things in Germany, but no one could name any.\\n>That\\'s not true.  I gave you two examples.  One was the rather\\n>pevasive anti-semitism in German Christianity well before Hitler\\n>arrived.  The other was the system of social ranks that were used\\n>in Imperail Germany and Austria to distinguish Jews from the rest \\n>of the population.\\n\\nThese don\\'t seem like \"little things\" to me.  At least, they are orders\\nworse than the motto.  Do you think that the motto is a \"little thing\"\\nthat will lead to worse things?\\n\\nkeith\\n'"
            ]
          },
          "metadata": {
            "tags": []
          },
          "execution_count": 63
        }
      ]
    },
    {
      "cell_type": "code",
      "metadata": {
        "id": "WD7WSMTIY0-V"
      },
      "source": [
        "compared_text = newsgroups_train.data[20]"
      ],
      "execution_count": 64,
      "outputs": []
    },
    {
      "cell_type": "code",
      "metadata": {
        "colab": {
          "base_uri": "https://localhost:8080/"
        },
        "id": "ERL4kXdjUmyc",
        "outputId": "29ad9832-7b3b-428c-ac3b-04e6a537cee2"
      },
      "source": [
        "print(newsgroups_train.data[20])"
      ],
      "execution_count": 65,
      "outputs": [
        {
          "output_type": "stream",
          "text": [
            "From: keith@cco.caltech.edu (Keith Allan Schneider)\n",
            "Subject: Re: <<Pompous ass\n",
            "Organization: California Institute of Technology, Pasadena\n",
            "Lines: 16\n",
            "NNTP-Posting-Host: punisher.caltech.edu\n",
            "\n",
            "livesey@solntze.wpd.sgi.com (Jon Livesey) writes:\n",
            "\n",
            "[...]\n",
            ">>The \"`little' things\" above were in reference to Germany, clearly.  People\n",
            ">>said that there were similar things in Germany, but no one could name any.\n",
            ">That's not true.  I gave you two examples.  One was the rather\n",
            ">pevasive anti-semitism in German Christianity well before Hitler\n",
            ">arrived.  The other was the system of social ranks that were used\n",
            ">in Imperail Germany and Austria to distinguish Jews from the rest \n",
            ">of the population.\n",
            "\n",
            "These don't seem like \"little things\" to me.  At least, they are orders\n",
            "worse than the motto.  Do you think that the motto is a \"little thing\"\n",
            "that will lead to worse things?\n",
            "\n",
            "keith\n",
            "\n"
          ],
          "name": "stdout"
        }
      ]
    },
    {
      "cell_type": "code",
      "metadata": {
        "id": "8w-QuCLBUmv5"
      },
      "source": [
        "base_stop_words = stopwords.words(\"english\")\n",
        "punctuation_string = list(string.punctuation)\n",
        "extra_stopwords_black = {'n/a', 'unspecified',\"subject\"}    # extra stopwords\n",
        "extra_stopwords_white = {'build'}           # not stopwords\n",
        "base_stop_words.extend(punctuation_string)\n",
        "stopwords_eng = set(base_stop_words)\n",
        "stopwords_eng.update(extra_stopwords_black)\n",
        "stopwords_eng.difference_update(extra_stopwords_white)\n"
      ],
      "execution_count": 66,
      "outputs": []
    },
    {
      "cell_type": "code",
      "metadata": {
        "colab": {
          "base_uri": "https://localhost:8080/"
        },
        "id": "bih5PupadZ6d",
        "outputId": "eed86d74-310f-4cb2-cc64-02c742b13c27"
      },
      "source": [
        "stopwords_eng"
      ],
      "execution_count": 67,
      "outputs": [
        {
          "output_type": "execute_result",
          "data": {
            "text/plain": [
              "{'!',\n",
              " '\"',\n",
              " '#',\n",
              " '$',\n",
              " '%',\n",
              " '&',\n",
              " \"'\",\n",
              " '(',\n",
              " ')',\n",
              " '*',\n",
              " '+',\n",
              " ',',\n",
              " '-',\n",
              " '.',\n",
              " '/',\n",
              " ':',\n",
              " ';',\n",
              " '<',\n",
              " '=',\n",
              " '>',\n",
              " '?',\n",
              " '@',\n",
              " '[',\n",
              " '\\\\',\n",
              " ']',\n",
              " '^',\n",
              " '_',\n",
              " '`',\n",
              " 'a',\n",
              " 'about',\n",
              " 'above',\n",
              " 'after',\n",
              " 'again',\n",
              " 'against',\n",
              " 'ain',\n",
              " 'all',\n",
              " 'am',\n",
              " 'an',\n",
              " 'and',\n",
              " 'any',\n",
              " 'are',\n",
              " 'aren',\n",
              " \"aren't\",\n",
              " 'as',\n",
              " 'at',\n",
              " 'be',\n",
              " 'because',\n",
              " 'been',\n",
              " 'before',\n",
              " 'being',\n",
              " 'below',\n",
              " 'between',\n",
              " 'both',\n",
              " 'but',\n",
              " 'by',\n",
              " 'can',\n",
              " 'couldn',\n",
              " \"couldn't\",\n",
              " 'd',\n",
              " 'did',\n",
              " 'didn',\n",
              " \"didn't\",\n",
              " 'do',\n",
              " 'does',\n",
              " 'doesn',\n",
              " \"doesn't\",\n",
              " 'doing',\n",
              " 'don',\n",
              " \"don't\",\n",
              " 'down',\n",
              " 'during',\n",
              " 'each',\n",
              " 'few',\n",
              " 'for',\n",
              " 'from',\n",
              " 'further',\n",
              " 'had',\n",
              " 'hadn',\n",
              " \"hadn't\",\n",
              " 'has',\n",
              " 'hasn',\n",
              " \"hasn't\",\n",
              " 'have',\n",
              " 'haven',\n",
              " \"haven't\",\n",
              " 'having',\n",
              " 'he',\n",
              " 'her',\n",
              " 'here',\n",
              " 'hers',\n",
              " 'herself',\n",
              " 'him',\n",
              " 'himself',\n",
              " 'his',\n",
              " 'how',\n",
              " 'i',\n",
              " 'if',\n",
              " 'in',\n",
              " 'into',\n",
              " 'is',\n",
              " 'isn',\n",
              " \"isn't\",\n",
              " 'it',\n",
              " \"it's\",\n",
              " 'its',\n",
              " 'itself',\n",
              " 'just',\n",
              " 'll',\n",
              " 'm',\n",
              " 'ma',\n",
              " 'me',\n",
              " 'mightn',\n",
              " \"mightn't\",\n",
              " 'more',\n",
              " 'most',\n",
              " 'mustn',\n",
              " \"mustn't\",\n",
              " 'my',\n",
              " 'myself',\n",
              " 'n/a',\n",
              " 'needn',\n",
              " \"needn't\",\n",
              " 'no',\n",
              " 'nor',\n",
              " 'not',\n",
              " 'now',\n",
              " 'o',\n",
              " 'of',\n",
              " 'off',\n",
              " 'on',\n",
              " 'once',\n",
              " 'only',\n",
              " 'or',\n",
              " 'other',\n",
              " 'our',\n",
              " 'ours',\n",
              " 'ourselves',\n",
              " 'out',\n",
              " 'over',\n",
              " 'own',\n",
              " 're',\n",
              " 's',\n",
              " 'same',\n",
              " 'shan',\n",
              " \"shan't\",\n",
              " 'she',\n",
              " \"she's\",\n",
              " 'should',\n",
              " \"should've\",\n",
              " 'shouldn',\n",
              " \"shouldn't\",\n",
              " 'so',\n",
              " 'some',\n",
              " 'subject',\n",
              " 'such',\n",
              " 't',\n",
              " 'than',\n",
              " 'that',\n",
              " \"that'll\",\n",
              " 'the',\n",
              " 'their',\n",
              " 'theirs',\n",
              " 'them',\n",
              " 'themselves',\n",
              " 'then',\n",
              " 'there',\n",
              " 'these',\n",
              " 'they',\n",
              " 'this',\n",
              " 'those',\n",
              " 'through',\n",
              " 'to',\n",
              " 'too',\n",
              " 'under',\n",
              " 'unspecified',\n",
              " 'until',\n",
              " 'up',\n",
              " 've',\n",
              " 'very',\n",
              " 'was',\n",
              " 'wasn',\n",
              " \"wasn't\",\n",
              " 'we',\n",
              " 'were',\n",
              " 'weren',\n",
              " \"weren't\",\n",
              " 'what',\n",
              " 'when',\n",
              " 'where',\n",
              " 'which',\n",
              " 'while',\n",
              " 'who',\n",
              " 'whom',\n",
              " 'why',\n",
              " 'will',\n",
              " 'with',\n",
              " 'won',\n",
              " \"won't\",\n",
              " 'wouldn',\n",
              " \"wouldn't\",\n",
              " 'y',\n",
              " 'you',\n",
              " \"you'd\",\n",
              " \"you'll\",\n",
              " \"you're\",\n",
              " \"you've\",\n",
              " 'your',\n",
              " 'yours',\n",
              " 'yourself',\n",
              " 'yourselves',\n",
              " '{',\n",
              " '|',\n",
              " '}',\n",
              " '~'}"
            ]
          },
          "metadata": {
            "tags": []
          },
          "execution_count": 67
        }
      ]
    },
    {
      "cell_type": "code",
      "metadata": {
        "id": "tup3NlmDUmtS"
      },
      "source": [
        "import spacy\n",
        "from spacy.tokenizer import Tokenizer\n",
        "from spacy.util import compile_infix_regex\n",
        "\n",
        "nlp = spacy.load(\"en_core_web_sm\")\n",
        "\n",
        "def custom_tokenizer(nlp):\n",
        "    inf = list(nlp.Defaults.infixes)               # Default infixes\n",
        "    inf.remove(r\"(?<=[0-9])[+\\-\\*^](?=[0-9-])\")    # Remove the generic op between numbers or between a number and a -\n",
        "    inf = tuple(inf)                               # Convert inf to tuple\n",
        "    infixes = inf + tuple([r\"(?<=[0-9])[+*^](?=[0-9-])\", r\"(?<=[0-9])-(?=-)\"])  # Add the removed rule after subtracting (?<=[0-9])-(?=[0-9]) pattern\n",
        "    infixes = [x for x in infixes if '-|–|—|--|---|——|~' not in x] # Remove - between letters rule\n",
        "    infix_re = compile_infix_regex(infixes)\n",
        "\n",
        "    return Tokenizer(nlp.vocab, prefix_search=nlp.tokenizer.prefix_search,\n",
        "                                suffix_search=nlp.tokenizer.suffix_search,\n",
        "                                infix_finditer=infix_re.finditer,\n",
        "                                token_match=nlp.tokenizer.token_match,\n",
        "                                rules=nlp.Defaults.tokenizer_exceptions)\n",
        "\n",
        "nlp.tokenizer = custom_tokenizer(nlp)\n"
      ],
      "execution_count": 68,
      "outputs": []
    },
    {
      "cell_type": "code",
      "metadata": {
        "colab": {
          "base_uri": "https://localhost:8080/"
        },
        "id": "t5pUGyZMc2GD",
        "outputId": "f3330734-c8a5-43ae-99e9-54b2291fdc70"
      },
      "source": [
        "doc = nlp('The Indo-European Caucus won the all-male election 58-32.')\n",
        "\n",
        "print([token.text for token in doc]) "
      ],
      "execution_count": 69,
      "outputs": [
        {
          "output_type": "stream",
          "text": [
            "['The', 'Indo-European', 'Caucus', 'won', 'the', 'all-male', 'election', '58-32', '.']\n"
          ],
          "name": "stdout"
        }
      ]
    },
    {
      "cell_type": "code",
      "metadata": {
        "id": "YdgbZ0oKUmrS"
      },
      "source": [
        "def text_process(text_string):\n",
        "\n",
        "  text_string = text_string.replace(\"/\", ' ').replace(',', ' ').replace('?', ' ').replace('!', ' ').replace(':', ' ').strip()\n",
        "\n",
        "  processed_token = [i.lower() for i in re.split('\\s|\\n|\\t', text_string.strip()) if i != '']\n",
        "\n",
        "  processed_token = list(filter (lambda s:any([c.isalnum() for c in s]), processed_token))\n",
        "\n",
        "  processed_token = [i.rstrip('.').\n",
        "                     rstrip(',').\n",
        "                     lstrip('(').\n",
        "                     rstrip(')').\n",
        "                     lstrip('<').\n",
        "                     rstrip('>').\n",
        "                     rstrip(':').\n",
        "                     lstrip('>').\n",
        "                     rstrip('>').\n",
        "                     lstrip('\"').\n",
        "                     rstrip('\"').\n",
        "                     lstrip(\"'\").\n",
        "                     rstrip(\"'\").\n",
        "                     lstrip(\"-\").\n",
        "                     rstrip(\"-\") for i in processed_token]\n",
        "\n",
        "  processed_token = ' '.join([i for i in processed_token if i not in stopwords_eng])\n",
        "\n",
        "  # doc = nlp(processed_token)\n",
        "\n",
        "  # return ' '.join([token.lemma_ for token in doc if token.text not in stopwords_eng])\n",
        "\n",
        "  return processed_token"
      ],
      "execution_count": 78,
      "outputs": []
    },
    {
      "cell_type": "code",
      "metadata": {
        "colab": {
          "base_uri": "https://localhost:8080/",
          "height": 88
        },
        "id": "k47GBfhXUmCE",
        "outputId": "b0d96c65-74b5-494f-ddf2-6fcf0efd6010"
      },
      "source": [
        "text_process(newsgroups_train.data[20])"
      ],
      "execution_count": 79,
      "outputs": [
        {
          "output_type": "execute_result",
          "data": {
            "application/vnd.google.colaboratory.intrinsic+json": {
              "type": "string"
            },
            "text/plain": [
              "\"keith@cco.caltech.edu keith allan schneider pompous ass organization california institute technology pasadena lines 16 nntp-posting-host punisher.caltech.edu livesey@solntze.wpd.sgi.com jon livesey writes `little things reference germany clearly people said similar things germany one could name that's true gave two examples one rather pevasive anti-semitism german christianity well hitler arrived system social ranks used imperail germany austria distinguish jews rest population seem like little things least orders worse motto think motto little thing lead worse things keith\""
            ]
          },
          "metadata": {
            "tags": []
          },
          "execution_count": 79
        }
      ]
    },
    {
      "cell_type": "code",
      "metadata": {
        "colab": {
          "base_uri": "https://localhost:8080/",
          "height": 105
        },
        "id": "l3aznSfFYwiS",
        "outputId": "c58e3a32-1b0c-4d31-a6c3-0aa21c71943b"
      },
      "source": [
        "compared_text"
      ],
      "execution_count": 53,
      "outputs": [
        {
          "output_type": "execute_result",
          "data": {
            "application/vnd.google.colaboratory.intrinsic+json": {
              "type": "string"
            },
            "text/plain": [
              "'From: keith@cco.caltech.edu (Keith Allan Schneider)\\nSubject: Re: <<Pompous ass\\nOrganization: California Institute of Technology, Pasadena\\nLines: 16\\nNNTP-Posting-Host: punisher.caltech.edu\\n\\nlivesey@solntze.wpd.sgi.com (Jon Livesey) writes:\\n\\n[...]\\n>>The \"`little\\' things\" above were in reference to Germany, clearly.  People\\n>>said that there were similar things in Germany, but no one could name any.\\n>That\\'s not true.  I gave you two examples.  One was the rather\\n>pevasive anti-semitism in German Christianity well before Hitler\\n>arrived.  The other was the system of social ranks that were used\\n>in Imperail Germany and Austria to distinguish Jews from the rest \\n>of the population.\\n\\nThese don\\'t seem like \"little things\" to me.  At least, they are orders\\nworse than the motto.  Do you think that the motto is a \"little thing\"\\nthat will lead to worse things?\\n\\nkeith\\n'"
            ]
          },
          "metadata": {
            "tags": []
          },
          "execution_count": 53
        }
      ]
    },
    {
      "cell_type": "code",
      "metadata": {
        "colab": {
          "base_uri": "https://localhost:8080/",
          "height": 105
        },
        "id": "Kj0XWaLAzHtp",
        "outputId": "0a95519e-fda7-4f62-c618-63ef8512511c"
      },
      "source": [
        "text_string = compared_text.replace(\"/\", ' ').replace(',', ' ').replace('?', ' ').replace('!', ' ').replace(':', ' ').strip()\n",
        "\n",
        "text_string"
      ],
      "execution_count": 72,
      "outputs": [
        {
          "output_type": "execute_result",
          "data": {
            "application/vnd.google.colaboratory.intrinsic+json": {
              "type": "string"
            },
            "text/plain": [
              "'From  keith@cco.caltech.edu (Keith Allan Schneider)\\nSubject  Re  <<Pompous ass\\nOrganization  California Institute of Technology  Pasadena\\nLines  16\\nNNTP-Posting-Host  punisher.caltech.edu\\n\\nlivesey@solntze.wpd.sgi.com (Jon Livesey) writes \\n\\n[...]\\n>>The \"`little\\' things\" above were in reference to Germany  clearly.  People\\n>>said that there were similar things in Germany  but no one could name any.\\n>That\\'s not true.  I gave you two examples.  One was the rather\\n>pevasive anti-semitism in German Christianity well before Hitler\\n>arrived.  The other was the system of social ranks that were used\\n>in Imperail Germany and Austria to distinguish Jews from the rest \\n>of the population.\\n\\nThese don\\'t seem like \"little things\" to me.  At least  they are orders\\nworse than the motto.  Do you think that the motto is a \"little thing\"\\nthat will lead to worse things \\n\\nkeith'"
            ]
          },
          "metadata": {
            "tags": []
          },
          "execution_count": 72
        }
      ]
    },
    {
      "cell_type": "code",
      "metadata": {
        "colab": {
          "base_uri": "https://localhost:8080/"
        },
        "id": "mKC01WjKzHq1",
        "outputId": "c6e7b869-8592-4462-c168-33883c1ee040"
      },
      "source": [
        "#processed_token = ' '.join(re.split('\\s|; |: |, |- |\\* |\\n, |\\t', text_string.strip())).split()\n",
        "processed_token = [i.lower() for i in re.split('\\s|\\n|\\t', text_string.strip()) if i != '']\n",
        "processed_token"
      ],
      "execution_count": 73,
      "outputs": [
        {
          "output_type": "execute_result",
          "data": {
            "text/plain": [
              "['from',\n",
              " 'keith@cco.caltech.edu',\n",
              " '(keith',\n",
              " 'allan',\n",
              " 'schneider)',\n",
              " 'subject',\n",
              " 're',\n",
              " '<<pompous',\n",
              " 'ass',\n",
              " 'organization',\n",
              " 'california',\n",
              " 'institute',\n",
              " 'of',\n",
              " 'technology',\n",
              " 'pasadena',\n",
              " 'lines',\n",
              " '16',\n",
              " 'nntp-posting-host',\n",
              " 'punisher.caltech.edu',\n",
              " 'livesey@solntze.wpd.sgi.com',\n",
              " '(jon',\n",
              " 'livesey)',\n",
              " 'writes',\n",
              " '[...]',\n",
              " '>>the',\n",
              " '\"`little\\'',\n",
              " 'things\"',\n",
              " 'above',\n",
              " 'were',\n",
              " 'in',\n",
              " 'reference',\n",
              " 'to',\n",
              " 'germany',\n",
              " 'clearly.',\n",
              " 'people',\n",
              " '>>said',\n",
              " 'that',\n",
              " 'there',\n",
              " 'were',\n",
              " 'similar',\n",
              " 'things',\n",
              " 'in',\n",
              " 'germany',\n",
              " 'but',\n",
              " 'no',\n",
              " 'one',\n",
              " 'could',\n",
              " 'name',\n",
              " 'any.',\n",
              " \">that's\",\n",
              " 'not',\n",
              " 'true.',\n",
              " 'i',\n",
              " 'gave',\n",
              " 'you',\n",
              " 'two',\n",
              " 'examples.',\n",
              " 'one',\n",
              " 'was',\n",
              " 'the',\n",
              " 'rather',\n",
              " '>pevasive',\n",
              " 'anti-semitism',\n",
              " 'in',\n",
              " 'german',\n",
              " 'christianity',\n",
              " 'well',\n",
              " 'before',\n",
              " 'hitler',\n",
              " '>arrived.',\n",
              " 'the',\n",
              " 'other',\n",
              " 'was',\n",
              " 'the',\n",
              " 'system',\n",
              " 'of',\n",
              " 'social',\n",
              " 'ranks',\n",
              " 'that',\n",
              " 'were',\n",
              " 'used',\n",
              " '>in',\n",
              " 'imperail',\n",
              " 'germany',\n",
              " 'and',\n",
              " 'austria',\n",
              " 'to',\n",
              " 'distinguish',\n",
              " 'jews',\n",
              " 'from',\n",
              " 'the',\n",
              " 'rest',\n",
              " '>of',\n",
              " 'the',\n",
              " 'population.',\n",
              " 'these',\n",
              " \"don't\",\n",
              " 'seem',\n",
              " 'like',\n",
              " '\"little',\n",
              " 'things\"',\n",
              " 'to',\n",
              " 'me.',\n",
              " 'at',\n",
              " 'least',\n",
              " 'they',\n",
              " 'are',\n",
              " 'orders',\n",
              " 'worse',\n",
              " 'than',\n",
              " 'the',\n",
              " 'motto.',\n",
              " 'do',\n",
              " 'you',\n",
              " 'think',\n",
              " 'that',\n",
              " 'the',\n",
              " 'motto',\n",
              " 'is',\n",
              " 'a',\n",
              " '\"little',\n",
              " 'thing\"',\n",
              " 'that',\n",
              " 'will',\n",
              " 'lead',\n",
              " 'to',\n",
              " 'worse',\n",
              " 'things',\n",
              " 'keith']"
            ]
          },
          "metadata": {
            "tags": []
          },
          "execution_count": 73
        }
      ]
    },
    {
      "cell_type": "code",
      "metadata": {
        "colab": {
          "base_uri": "https://localhost:8080/"
        },
        "id": "_Lvf7HuziVAP",
        "outputId": "5a1a5521-d5ce-4c0b-a9a2-6d548b444435"
      },
      "source": [
        "processed_token = list(filter (lambda s:any([c.isalnum() for c in s]), processed_token))\n",
        "processed_token"
      ],
      "execution_count": 74,
      "outputs": [
        {
          "output_type": "execute_result",
          "data": {
            "text/plain": [
              "['from',\n",
              " 'keith@cco.caltech.edu',\n",
              " '(keith',\n",
              " 'allan',\n",
              " 'schneider)',\n",
              " 'subject',\n",
              " 're',\n",
              " '<<pompous',\n",
              " 'ass',\n",
              " 'organization',\n",
              " 'california',\n",
              " 'institute',\n",
              " 'of',\n",
              " 'technology',\n",
              " 'pasadena',\n",
              " 'lines',\n",
              " '16',\n",
              " 'nntp-posting-host',\n",
              " 'punisher.caltech.edu',\n",
              " 'livesey@solntze.wpd.sgi.com',\n",
              " '(jon',\n",
              " 'livesey)',\n",
              " 'writes',\n",
              " '>>the',\n",
              " '\"`little\\'',\n",
              " 'things\"',\n",
              " 'above',\n",
              " 'were',\n",
              " 'in',\n",
              " 'reference',\n",
              " 'to',\n",
              " 'germany',\n",
              " 'clearly.',\n",
              " 'people',\n",
              " '>>said',\n",
              " 'that',\n",
              " 'there',\n",
              " 'were',\n",
              " 'similar',\n",
              " 'things',\n",
              " 'in',\n",
              " 'germany',\n",
              " 'but',\n",
              " 'no',\n",
              " 'one',\n",
              " 'could',\n",
              " 'name',\n",
              " 'any.',\n",
              " \">that's\",\n",
              " 'not',\n",
              " 'true.',\n",
              " 'i',\n",
              " 'gave',\n",
              " 'you',\n",
              " 'two',\n",
              " 'examples.',\n",
              " 'one',\n",
              " 'was',\n",
              " 'the',\n",
              " 'rather',\n",
              " '>pevasive',\n",
              " 'anti-semitism',\n",
              " 'in',\n",
              " 'german',\n",
              " 'christianity',\n",
              " 'well',\n",
              " 'before',\n",
              " 'hitler',\n",
              " '>arrived.',\n",
              " 'the',\n",
              " 'other',\n",
              " 'was',\n",
              " 'the',\n",
              " 'system',\n",
              " 'of',\n",
              " 'social',\n",
              " 'ranks',\n",
              " 'that',\n",
              " 'were',\n",
              " 'used',\n",
              " '>in',\n",
              " 'imperail',\n",
              " 'germany',\n",
              " 'and',\n",
              " 'austria',\n",
              " 'to',\n",
              " 'distinguish',\n",
              " 'jews',\n",
              " 'from',\n",
              " 'the',\n",
              " 'rest',\n",
              " '>of',\n",
              " 'the',\n",
              " 'population.',\n",
              " 'these',\n",
              " \"don't\",\n",
              " 'seem',\n",
              " 'like',\n",
              " '\"little',\n",
              " 'things\"',\n",
              " 'to',\n",
              " 'me.',\n",
              " 'at',\n",
              " 'least',\n",
              " 'they',\n",
              " 'are',\n",
              " 'orders',\n",
              " 'worse',\n",
              " 'than',\n",
              " 'the',\n",
              " 'motto.',\n",
              " 'do',\n",
              " 'you',\n",
              " 'think',\n",
              " 'that',\n",
              " 'the',\n",
              " 'motto',\n",
              " 'is',\n",
              " 'a',\n",
              " '\"little',\n",
              " 'thing\"',\n",
              " 'that',\n",
              " 'will',\n",
              " 'lead',\n",
              " 'to',\n",
              " 'worse',\n",
              " 'things',\n",
              " 'keith']"
            ]
          },
          "metadata": {
            "tags": []
          },
          "execution_count": 74
        }
      ]
    },
    {
      "cell_type": "code",
      "metadata": {
        "colab": {
          "base_uri": "https://localhost:8080/"
        },
        "id": "9PvwAuS6iU92",
        "outputId": "bd8574b2-20da-49a6-c5ef-666c5dbfe65e"
      },
      "source": [
        "processed_token = [i.rstrip('.').\n",
        "                     rstrip(',').\n",
        "                     lstrip('(').\n",
        "                     rstrip(')').\n",
        "                     lstrip('<').\n",
        "                     rstrip('>').\n",
        "                     rstrip(':').\n",
        "                     lstrip('>').\n",
        "                     rstrip('>').\n",
        "                     lstrip('\"').\n",
        "                     rstrip('\"').\n",
        "                     lstrip(\"'\").\n",
        "                     rstrip(\"'\").\n",
        "                     lstrip(\"-\").\n",
        "                     rstrip(\"-\") for i in processed_token]\n",
        "\n",
        "processed_token"
      ],
      "execution_count": 75,
      "outputs": [
        {
          "output_type": "execute_result",
          "data": {
            "text/plain": [
              "['from',\n",
              " 'keith@cco.caltech.edu',\n",
              " 'keith',\n",
              " 'allan',\n",
              " 'schneider',\n",
              " 'subject',\n",
              " 're',\n",
              " 'pompous',\n",
              " 'ass',\n",
              " 'organization',\n",
              " 'california',\n",
              " 'institute',\n",
              " 'of',\n",
              " 'technology',\n",
              " 'pasadena',\n",
              " 'lines',\n",
              " '16',\n",
              " 'nntp-posting-host',\n",
              " 'punisher.caltech.edu',\n",
              " 'livesey@solntze.wpd.sgi.com',\n",
              " 'jon',\n",
              " 'livesey',\n",
              " 'writes',\n",
              " 'the',\n",
              " '`little',\n",
              " 'things',\n",
              " 'above',\n",
              " 'were',\n",
              " 'in',\n",
              " 'reference',\n",
              " 'to',\n",
              " 'germany',\n",
              " 'clearly',\n",
              " 'people',\n",
              " 'said',\n",
              " 'that',\n",
              " 'there',\n",
              " 'were',\n",
              " 'similar',\n",
              " 'things',\n",
              " 'in',\n",
              " 'germany',\n",
              " 'but',\n",
              " 'no',\n",
              " 'one',\n",
              " 'could',\n",
              " 'name',\n",
              " 'any',\n",
              " \"that's\",\n",
              " 'not',\n",
              " 'true',\n",
              " 'i',\n",
              " 'gave',\n",
              " 'you',\n",
              " 'two',\n",
              " 'examples',\n",
              " 'one',\n",
              " 'was',\n",
              " 'the',\n",
              " 'rather',\n",
              " 'pevasive',\n",
              " 'anti-semitism',\n",
              " 'in',\n",
              " 'german',\n",
              " 'christianity',\n",
              " 'well',\n",
              " 'before',\n",
              " 'hitler',\n",
              " 'arrived',\n",
              " 'the',\n",
              " 'other',\n",
              " 'was',\n",
              " 'the',\n",
              " 'system',\n",
              " 'of',\n",
              " 'social',\n",
              " 'ranks',\n",
              " 'that',\n",
              " 'were',\n",
              " 'used',\n",
              " 'in',\n",
              " 'imperail',\n",
              " 'germany',\n",
              " 'and',\n",
              " 'austria',\n",
              " 'to',\n",
              " 'distinguish',\n",
              " 'jews',\n",
              " 'from',\n",
              " 'the',\n",
              " 'rest',\n",
              " 'of',\n",
              " 'the',\n",
              " 'population',\n",
              " 'these',\n",
              " \"don't\",\n",
              " 'seem',\n",
              " 'like',\n",
              " 'little',\n",
              " 'things',\n",
              " 'to',\n",
              " 'me',\n",
              " 'at',\n",
              " 'least',\n",
              " 'they',\n",
              " 'are',\n",
              " 'orders',\n",
              " 'worse',\n",
              " 'than',\n",
              " 'the',\n",
              " 'motto',\n",
              " 'do',\n",
              " 'you',\n",
              " 'think',\n",
              " 'that',\n",
              " 'the',\n",
              " 'motto',\n",
              " 'is',\n",
              " 'a',\n",
              " 'little',\n",
              " 'thing',\n",
              " 'that',\n",
              " 'will',\n",
              " 'lead',\n",
              " 'to',\n",
              " 'worse',\n",
              " 'things',\n",
              " 'keith']"
            ]
          },
          "metadata": {
            "tags": []
          },
          "execution_count": 75
        }
      ]
    },
    {
      "cell_type": "code",
      "metadata": {
        "colab": {
          "base_uri": "https://localhost:8080/",
          "height": 88
        },
        "id": "RXwvLsvciU7M",
        "outputId": "c448d48e-3adf-497a-f77b-d6aaf3a13390"
      },
      "source": [
        "processed_token = ' '.join([i for i in processed_token if i not in stopwords_eng])\n",
        "\n",
        "processed_token"
      ],
      "execution_count": 76,
      "outputs": [
        {
          "output_type": "execute_result",
          "data": {
            "application/vnd.google.colaboratory.intrinsic+json": {
              "type": "string"
            },
            "text/plain": [
              "\"keith@cco.caltech.edu keith allan schneider pompous ass organization california institute technology pasadena lines 16 nntp-posting-host punisher.caltech.edu livesey@solntze.wpd.sgi.com jon livesey writes `little things reference germany clearly people said similar things germany one could name that's true gave two examples one rather pevasive anti-semitism german christianity well hitler arrived system social ranks used imperail germany austria distinguish jews rest population seem like little things least orders worse motto think motto little thing lead worse things keith\""
            ]
          },
          "metadata": {
            "tags": []
          },
          "execution_count": 76
        }
      ]
    },
    {
      "cell_type": "code",
      "metadata": {
        "colab": {
          "base_uri": "https://localhost:8080/",
          "height": 88
        },
        "id": "OaiAzitTiU4Z",
        "outputId": "2fb56601-1a5f-4d71-84ab-284858805ea1"
      },
      "source": [
        "nlp = spacy.load(\"en_core_web_sm\")\n",
        "\n",
        "doc = nlp(processed_token)\n",
        "\n",
        "' '.join([token.lemma_ for token in doc if token.text not in stopwords_eng])"
      ],
      "execution_count": 77,
      "outputs": [
        {
          "output_type": "execute_result",
          "data": {
            "application/vnd.google.colaboratory.intrinsic+json": {
              "type": "string"
            },
            "text/plain": [
              "'keith@cco.caltech.edu keith allan schneider pompous ass organization california institute technology pasadena line 16 nntp post host punisher.caltech.edu livesey@solntze.wpd.sgi.com jon livesey write little thing reference germany clearly people say similar thing germany one could name be true give two example one rather pevasive anti semitism german christianity well hitler arrive system social rank use imperail germany austria distinguish jews rest population seem like little thing least order bad motto think motto little thing lead bad thing keith'"
            ]
          },
          "metadata": {
            "tags": []
          },
          "execution_count": 77
        }
      ]
    },
    {
      "cell_type": "code",
      "metadata": {
        "colab": {
          "base_uri": "https://localhost:8080/",
          "height": 105
        },
        "id": "nA0KdnrsiU1m",
        "outputId": "69f67cf3-a2ff-4ab2-b3b1-d014a74f8a45"
      },
      "source": [
        "compared_text"
      ],
      "execution_count": 33,
      "outputs": [
        {
          "output_type": "execute_result",
          "data": {
            "application/vnd.google.colaboratory.intrinsic+json": {
              "type": "string"
            },
            "text/plain": [
              "'From: keith@cco.caltech.edu (Keith Allan Schneider)\\nSubject: Re: <<Pompous ass\\nOrganization: California Institute of Technology, Pasadena\\nLines: 16\\nNNTP-Posting-Host: punisher.caltech.edu\\n\\nlivesey@solntze.wpd.sgi.com (Jon Livesey) writes:\\n\\n[...]\\n>>The \"`little\\' things\" above were in reference to Germany, clearly.  People\\n>>said that there were similar things in Germany, but no one could name any.\\n>That\\'s not true.  I gave you two examples.  One was the rather\\n>pevasive anti-semitism in German Christianity well before Hitler\\n>arrived.  The other was the system of social ranks that were used\\n>in Imperail Germany and Austria to distinguish Jews from the rest \\n>of the population.\\n\\nThese don\\'t seem like \"little things\" to me.  At least, they are orders\\nworse than the motto.  Do you think that the motto is a \"little thing\"\\nthat will lead to worse things?\\n\\nkeith\\n'"
            ]
          },
          "metadata": {
            "tags": []
          },
          "execution_count": 33
        }
      ]
    },
    {
      "cell_type": "code",
      "metadata": {
        "id": "fjf_41sbiUy4"
      },
      "source": [
        ""
      ],
      "execution_count": null,
      "outputs": []
    },
    {
      "cell_type": "code",
      "metadata": {
        "id": "VTAxVpz4iUwC"
      },
      "source": [
        ""
      ],
      "execution_count": null,
      "outputs": []
    },
    {
      "cell_type": "code",
      "metadata": {
        "id": "zI7khpy5iUqn"
      },
      "source": [
        ""
      ],
      "execution_count": null,
      "outputs": []
    },
    {
      "cell_type": "code",
      "metadata": {
        "id": "oKTwYpjdzHlb"
      },
      "source": [
        ""
      ],
      "execution_count": null,
      "outputs": []
    },
    {
      "cell_type": "code",
      "metadata": {
        "colab": {
          "base_uri": "https://localhost:8080/",
          "height": 35
        },
        "id": "VbExNWzdY6BP",
        "outputId": "0a54b8e5-e644-470f-ecf2-9af6dd51bbca"
      },
      "source": [
        "s = \"I enjoyd the event which took place yesteday &amp; I luvd it ! The link to the show is http://t.co/4ftYom0i It's awsome you'll luv it #HadFun #Enjoyed BFN GN\"\n",
        "\n",
        "text_process(s)"
      ],
      "execution_count": 52,
      "outputs": [
        {
          "output_type": "execute_result",
          "data": {
            "application/vnd.google.colaboratory.intrinsic+json": {
              "type": "string"
            },
            "text/plain": [
              "'enjoyd event took place yesteday &amp luvd link show http t.co 4ftyom0i awsome luv #hadfun #enjoyed bfn gn'"
            ]
          },
          "metadata": {
            "tags": []
          },
          "execution_count": 52
        }
      ]
    },
    {
      "cell_type": "code",
      "metadata": {
        "id": "vn2KtrzljyD3"
      },
      "source": [
        ""
      ],
      "execution_count": null,
      "outputs": []
    }
  ]
}