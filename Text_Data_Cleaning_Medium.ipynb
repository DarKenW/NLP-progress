{
  "nbformat": 4,
  "nbformat_minor": 0,
  "metadata": {
    "colab": {
      "name": "Text Data Cleaning Medium.ipynb",
      "provenance": [],
      "collapsed_sections": [],
      "authorship_tag": "ABX9TyOY6aQ88nOzdXPNiwJsw6OP",
      "include_colab_link": true
    },
    "kernelspec": {
      "name": "python3",
      "display_name": "Python 3"
    },
    "language_info": {
      "name": "python"
    }
  },
  "cells": [
    {
      "cell_type": "markdown",
      "metadata": {
        "id": "view-in-github",
        "colab_type": "text"
      },
      "source": [
        "<a href=\"https://colab.research.google.com/github/dk-wei/NLP-progress/blob/master/Text_Data_Cleaning_Medium.ipynb\" target=\"_parent\"><img src=\"https://colab.research.google.com/assets/colab-badge.svg\" alt=\"Open In Colab\"/></a>"
      ]
    },
    {
      "cell_type": "markdown",
      "metadata": {
        "id": "BPvFp89_bGVC"
      },
      "source": [
        "# Load Dependencies"
      ]
    },
    {
      "cell_type": "code",
      "metadata": {
        "colab": {
          "base_uri": "https://localhost:8080/"
        },
        "id": "JBxc9kRvUhUk",
        "outputId": "6b598f3c-4adf-4e04-965a-5b62623a0f3b"
      },
      "source": [
        "import re\n",
        "import sklearn\n",
        "import numpy as np\n",
        "import sklearn\n",
        "import sklearn.ensemble\n",
        "import sklearn.metrics\n",
        "from __future__ import print_function\n",
        "from tqdm.notebook import tqdm\n",
        "\n",
        "import spacy\n",
        "import string\n",
        "import nltk\n",
        "from nltk.corpus import stopwords\n",
        "nltk.download('stopwords')"
      ],
      "execution_count": 2,
      "outputs": [
        {
          "output_type": "stream",
          "text": [
            "[nltk_data] Downloading package stopwords to /root/nltk_data...\n",
            "[nltk_data]   Unzipping corpora/stopwords.zip.\n"
          ],
          "name": "stdout"
        },
        {
          "output_type": "execute_result",
          "data": {
            "text/plain": [
              "True"
            ]
          },
          "metadata": {
            "tags": []
          },
          "execution_count": 2
        }
      ]
    },
    {
      "cell_type": "markdown",
      "metadata": {
        "id": "wO1GETc4bP1d"
      },
      "source": [
        "# Load Data"
      ]
    },
    {
      "cell_type": "code",
      "metadata": {
        "id": "P-Ir3PTzUm3U",
        "colab": {
          "base_uri": "https://localhost:8080/"
        },
        "outputId": "4e98f089-00d2-4694-b513-e48c3bd43b19"
      },
      "source": [
        "from sklearn.datasets import fetch_20newsgroups\n",
        "newsgroups_train = fetch_20newsgroups(subset='train')\n",
        "newsgroups_test = fetch_20newsgroups(subset='test')"
      ],
      "execution_count": 3,
      "outputs": [
        {
          "output_type": "stream",
          "text": [
            "Downloading 20news dataset. This may take a few minutes.\n",
            "Downloading dataset from https://ndownloader.figshare.com/files/5975967 (14 MB)\n"
          ],
          "name": "stderr"
        }
      ]
    },
    {
      "cell_type": "code",
      "metadata": {
        "colab": {
          "base_uri": "https://localhost:8080/",
          "height": 120
        },
        "id": "0VHzoZA1Um1G",
        "outputId": "af597935-8571-4404-880c-c23ae8bdd4f6"
      },
      "source": [
        "newsgroups_train.data[20]"
      ],
      "execution_count": 4,
      "outputs": [
        {
          "output_type": "execute_result",
          "data": {
            "application/vnd.google.colaboratory.intrinsic+json": {
              "type": "string"
            },
            "text/plain": [
              "'From: keith@cco.caltech.edu (Keith Allan Schneider)\\nSubject: Re: <<Pompous ass\\nOrganization: California Institute of Technology, Pasadena\\nLines: 16\\nNNTP-Posting-Host: punisher.caltech.edu\\n\\nlivesey@solntze.wpd.sgi.com (Jon Livesey) writes:\\n\\n[...]\\n>>The \"`little\\' things\" above were in reference to Germany, clearly.  People\\n>>said that there were similar things in Germany, but no one could name any.\\n>That\\'s not true.  I gave you two examples.  One was the rather\\n>pevasive anti-semitism in German Christianity well before Hitler\\n>arrived.  The other was the system of social ranks that were used\\n>in Imperail Germany and Austria to distinguish Jews from the rest \\n>of the population.\\n\\nThese don\\'t seem like \"little things\" to me.  At least, they are orders\\nworse than the motto.  Do you think that the motto is a \"little thing\"\\nthat will lead to worse things?\\n\\nkeith\\n'"
            ]
          },
          "metadata": {
            "tags": []
          },
          "execution_count": 4
        }
      ]
    },
    {
      "cell_type": "code",
      "metadata": {
        "id": "WD7WSMTIY0-V"
      },
      "source": [
        "compared_text = newsgroups_train.data[20]"
      ],
      "execution_count": 5,
      "outputs": []
    },
    {
      "cell_type": "code",
      "metadata": {
        "colab": {
          "base_uri": "https://localhost:8080/"
        },
        "id": "ERL4kXdjUmyc",
        "outputId": "5e5bef5a-879f-4540-9c8f-3a852b2ad74e"
      },
      "source": [
        "print(newsgroups_train.data[20])"
      ],
      "execution_count": 6,
      "outputs": [
        {
          "output_type": "stream",
          "text": [
            "From: keith@cco.caltech.edu (Keith Allan Schneider)\n",
            "Subject: Re: <<Pompous ass\n",
            "Organization: California Institute of Technology, Pasadena\n",
            "Lines: 16\n",
            "NNTP-Posting-Host: punisher.caltech.edu\n",
            "\n",
            "livesey@solntze.wpd.sgi.com (Jon Livesey) writes:\n",
            "\n",
            "[...]\n",
            ">>The \"`little' things\" above were in reference to Germany, clearly.  People\n",
            ">>said that there were similar things in Germany, but no one could name any.\n",
            ">That's not true.  I gave you two examples.  One was the rather\n",
            ">pevasive anti-semitism in German Christianity well before Hitler\n",
            ">arrived.  The other was the system of social ranks that were used\n",
            ">in Imperail Germany and Austria to distinguish Jews from the rest \n",
            ">of the population.\n",
            "\n",
            "These don't seem like \"little things\" to me.  At least, they are orders\n",
            "worse than the motto.  Do you think that the motto is a \"little thing\"\n",
            "that will lead to worse things?\n",
            "\n",
            "keith\n",
            "\n"
          ],
          "name": "stdout"
        }
      ]
    },
    {
      "cell_type": "markdown",
      "metadata": {
        "id": "phl4fDwabhVE"
      },
      "source": [
        "# Build Stopwords Dictionary"
      ]
    },
    {
      "cell_type": "code",
      "metadata": {
        "id": "8w-QuCLBUmv5"
      },
      "source": [
        "base_stop_words = stopwords.words(\"english\")\n",
        "punctuation_string = list(string.punctuation)\n",
        "extra_stopwords_black = {'n/a', 'unspecified',\"subject\"}    # extra stopwords\n",
        "extra_stopwords_white = {'build'}           # not stopwords\n",
        "base_stop_words.extend(punctuation_string)\n",
        "stopwords_eng = set(base_stop_words)\n",
        "stopwords_eng.update(extra_stopwords_black)\n",
        "stopwords_eng.difference_update(extra_stopwords_white)\n"
      ],
      "execution_count": 7,
      "outputs": []
    },
    {
      "cell_type": "code",
      "metadata": {
        "id": "bih5PupadZ6d"
      },
      "source": [
        "#stopwords_eng"
      ],
      "execution_count": 8,
      "outputs": []
    },
    {
      "cell_type": "markdown",
      "metadata": {
        "id": "Jmjxqy67bjgc"
      },
      "source": [
        "# Customize `spaCy` tokenizer that keeps hyphenated letter words \n",
        "\n",
        "Source of code: [Wiktor Stribiżew](https://stackoverflow.com/questions/55241927/spacy-intra-word-hyphens-how-to-treat-them-one-word)"
      ]
    },
    {
      "cell_type": "code",
      "metadata": {
        "id": "tup3NlmDUmtS"
      },
      "source": [
        "import spacy\n",
        "from spacy.tokenizer import Tokenizer\n",
        "from spacy.util import compile_infix_regex\n",
        "\n",
        "nlp = spacy.load(\"en_core_web_sm\")\n",
        "\n",
        "def custom_tokenizer(nlp):\n",
        "    inf = list(nlp.Defaults.infixes)               # Default infixes\n",
        "    inf.remove(r\"(?<=[0-9])[+\\-\\*^](?=[0-9-])\")    # Remove the generic op between numbers or between a number and a -\n",
        "    inf = tuple(inf)                               # Convert inf to tuple\n",
        "    infixes = inf + tuple([r\"(?<=[0-9])[+*^](?=[0-9-])\", r\"(?<=[0-9])-(?=-)\"])  # Add the removed rule after subtracting (?<=[0-9])-(?=[0-9]) pattern\n",
        "    infixes = [x for x in infixes if '-|–|—|--|---|——|~' not in x] # Remove - between letters rule\n",
        "    infix_re = compile_infix_regex(infixes)\n",
        "\n",
        "    return Tokenizer(nlp.vocab, prefix_search=nlp.tokenizer.prefix_search,\n",
        "                                suffix_search=nlp.tokenizer.suffix_search,\n",
        "                                infix_finditer=infix_re.finditer,\n",
        "                                token_match=nlp.tokenizer.token_match,\n",
        "                                rules=nlp.Defaults.tokenizer_exceptions)\n",
        "\n",
        "nlp.tokenizer = custom_tokenizer(nlp)"
      ],
      "execution_count": 9,
      "outputs": []
    },
    {
      "cell_type": "markdown",
      "metadata": {
        "id": "3nd-5GReb4pI"
      },
      "source": [
        "after customization, `spaCy` wont split on hyphen in token."
      ]
    },
    {
      "cell_type": "code",
      "metadata": {
        "colab": {
          "base_uri": "https://localhost:8080/"
        },
        "id": "t5pUGyZMc2GD",
        "outputId": "c542d74a-0db7-4b95-e584-590f16246ef6"
      },
      "source": [
        "doc = nlp('The Indo-European Caucus won the all-male election 58-32.')\n",
        "\n",
        "print([token.text for token in doc]) "
      ],
      "execution_count": 10,
      "outputs": [
        {
          "output_type": "stream",
          "text": [
            "['The', 'Indo-European', 'Caucus', 'won', 'the', 'all-male', 'election', '58-32', '.']\n"
          ],
          "name": "stdout"
        }
      ]
    },
    {
      "cell_type": "markdown",
      "metadata": {
        "id": "KSe62WzzcCco"
      },
      "source": [
        "# Data Cleaning"
      ]
    },
    {
      "cell_type": "code",
      "metadata": {
        "id": "YdgbZ0oKUmrS"
      },
      "source": [
        "def text_process(text_string):\n",
        "\n",
        "  text_string = text_string.replace(\"/\", ' ').replace(',', ' ').replace('?', ' ').replace('!', ' ').replace(':', ' ').strip()\n",
        "\n",
        "  processed_token = [i.lower() for i in re.split('\\s|\\n|\\t', text_string.strip()) if i != '']\n",
        "\n",
        "  processed_token = list(filter (lambda s:any([c.isalnum() for c in s]), processed_token))\n",
        "\n",
        "  processed_token = [i.rstrip('.').\n",
        "                     rstrip(',').\n",
        "                     lstrip('(').\n",
        "                     rstrip(')').\n",
        "                     lstrip('<').\n",
        "                     rstrip('>').\n",
        "                     rstrip(':').\n",
        "                     lstrip('>').\n",
        "                     rstrip('>').\n",
        "                     lstrip('\"').\n",
        "                     rstrip('\"').\n",
        "                     lstrip(\"'\").\n",
        "                     rstrip(\"'\").\n",
        "                     lstrip(\"-\").\n",
        "                     rstrip(\"-\") for i in processed_token]\n",
        "\n",
        "  processed_token = ' '.join([i for i in processed_token if i not in stopwords_eng])\n",
        "\n",
        "  # chose whether implement lemmetization or not \n",
        "  # doc = nlp(processed_token)\n",
        "\n",
        "  # return ' '.join([token.lemma_ for token in doc if token.text not in stopwords_eng])\n",
        "\n",
        "  return processed_token"
      ],
      "execution_count": 11,
      "outputs": []
    },
    {
      "cell_type": "code",
      "metadata": {
        "colab": {
          "base_uri": "https://localhost:8080/",
          "height": 86
        },
        "id": "k47GBfhXUmCE",
        "outputId": "96c0925c-af9c-4182-c6c3-818cf5d276cc"
      },
      "source": [
        "text_process(newsgroups_train.data[20])"
      ],
      "execution_count": 12,
      "outputs": [
        {
          "output_type": "execute_result",
          "data": {
            "application/vnd.google.colaboratory.intrinsic+json": {
              "type": "string"
            },
            "text/plain": [
              "\"keith@cco.caltech.edu keith allan schneider pompous ass organization california institute technology pasadena lines 16 nntp-posting-host punisher.caltech.edu livesey@solntze.wpd.sgi.com jon livesey writes `little things reference germany clearly people said similar things germany one could name that's true gave two examples one rather pevasive anti-semitism german christianity well hitler arrived system social ranks used imperail germany austria distinguish jews rest population seem like little things least orders worse motto think motto little thing lead worse things keith\""
            ]
          },
          "metadata": {
            "tags": []
          },
          "execution_count": 12
        }
      ]
    },
    {
      "cell_type": "code",
      "metadata": {
        "colab": {
          "base_uri": "https://localhost:8080/",
          "height": 120
        },
        "id": "l3aznSfFYwiS",
        "outputId": "03155173-a0e6-4128-dc6a-0e68f91a0165"
      },
      "source": [
        "compared_text"
      ],
      "execution_count": 13,
      "outputs": [
        {
          "output_type": "execute_result",
          "data": {
            "application/vnd.google.colaboratory.intrinsic+json": {
              "type": "string"
            },
            "text/plain": [
              "'From: keith@cco.caltech.edu (Keith Allan Schneider)\\nSubject: Re: <<Pompous ass\\nOrganization: California Institute of Technology, Pasadena\\nLines: 16\\nNNTP-Posting-Host: punisher.caltech.edu\\n\\nlivesey@solntze.wpd.sgi.com (Jon Livesey) writes:\\n\\n[...]\\n>>The \"`little\\' things\" above were in reference to Germany, clearly.  People\\n>>said that there were similar things in Germany, but no one could name any.\\n>That\\'s not true.  I gave you two examples.  One was the rather\\n>pevasive anti-semitism in German Christianity well before Hitler\\n>arrived.  The other was the system of social ranks that were used\\n>in Imperail Germany and Austria to distinguish Jews from the rest \\n>of the population.\\n\\nThese don\\'t seem like \"little things\" to me.  At least, they are orders\\nworse than the motto.  Do you think that the motto is a \"little thing\"\\nthat will lead to worse things?\\n\\nkeith\\n'"
            ]
          },
          "metadata": {
            "tags": []
          },
          "execution_count": 13
        }
      ]
    },
    {
      "cell_type": "code",
      "metadata": {
        "id": "fjf_41sbiUy4"
      },
      "source": [
        ""
      ],
      "execution_count": 20,
      "outputs": []
    }
  ]
}